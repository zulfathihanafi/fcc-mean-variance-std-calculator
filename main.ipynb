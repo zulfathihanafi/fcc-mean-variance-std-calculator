{
 "cells": [
  {
   "cell_type": "code",
   "execution_count": 27,
   "metadata": {},
   "outputs": [
    {
     "name": "stdout",
     "output_type": "stream",
     "text": [
      "{'mean': [[3.0, 4.0, 5.0], [1.0, 4.0, 7.0], 4.0], 'variance': [[6.0, 6.0, 6.0], [0.6666666666666666, 0.6666666666666666, 0.6666666666666666], 6.666666666666667], 'standard deviation': [[2.449489742783178, 2.449489742783178, 2.449489742783178], [0.816496580927726, 0.816496580927726, 0.816496580927726], 2.581988897471611], 'max': [[6, 7, 8], [2, 5, 8], 8], 'min': [[0, 1, 2], [0, 3, 6], 0], 'sum': [[9, 12, 15], [3, 12, 21], 36]}\n"
     ]
    }
   ],
   "source": [
    "import numpy as np\n",
    "\n",
    "list = ((0,1,2,3,4,5,6,7,8))\n",
    "a = np.array(list)\n",
    "a = a.reshape((3,3))\n",
    "\n",
    "newDict = {}\n",
    "newDict[\"mean\"] = [np.mean(a,axis = 0).tolist(),np.mean(a,axis = 1).tolist(),np.mean(a)]\n",
    "newDict['variance'] = [np.var(a,axis =0).tolist(),np.var(a,axis =1).tolist(),np.var(a,)]\n",
    "newDict[\"standard deviation\"] = [np.std(a,axis =0).tolist(),np.std(a,axis =1).tolist(),np.std(a)]\n",
    "newDict[\"max\"] = [np.max(a,axis =0).tolist(),np.max(a,axis =1).tolist(),np.max(a)]\n",
    "newDict[\"min\"] = [np.min(a,axis =0).tolist(),np.min(a,axis =1).tolist(),np.min(a)]\n",
    "newDict[\"sum\"] = [np.sum(a,axis =0).tolist(),np.sum(a,axis =1).tolist(),np.sum(a)]\n",
    "\n",
    "print(newDict)"
   ]
  }
 ],
 "metadata": {
  "interpreter": {
   "hash": "577e8eebe600791ce5df4484c81edfb81fd1d22bd8a20a40ca7287dc0e8a24eb"
  },
  "kernelspec": {
   "display_name": "Python 3.9.13 64-bit ('base': conda)",
   "language": "python",
   "name": "python3"
  },
  "language_info": {
   "codemirror_mode": {
    "name": "ipython",
    "version": 3
   },
   "file_extension": ".py",
   "mimetype": "text/x-python",
   "name": "python",
   "nbconvert_exporter": "python",
   "pygments_lexer": "ipython3",
   "version": "3.9.13"
  },
  "orig_nbformat": 4
 },
 "nbformat": 4,
 "nbformat_minor": 2
}
